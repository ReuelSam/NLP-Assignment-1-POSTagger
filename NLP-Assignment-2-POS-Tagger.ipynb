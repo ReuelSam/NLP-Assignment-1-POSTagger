{
 "cells": [
  {
   "cell_type": "markdown",
   "id": "4deae4ec",
   "metadata": {
    "papermill": {
     "duration": 0.025594,
     "end_time": "2021-10-27T06:15:41.463869",
     "exception": false,
     "start_time": "2021-10-27T06:15:41.438275",
     "status": "completed"
    },
    "tags": []
   },
   "source": [
    "## 1. Imports"
   ]
  },
  {
   "cell_type": "code",
   "execution_count": 1,
   "id": "ae51267d",
   "metadata": {
    "execution": {
     "iopub.execute_input": "2021-10-27T06:15:41.526484Z",
     "iopub.status.busy": "2021-10-27T06:15:41.525547Z",
     "iopub.status.idle": "2021-10-27T06:15:47.991823Z",
     "shell.execute_reply": "2021-10-27T06:15:47.991174Z",
     "shell.execute_reply.started": "2021-10-27T05:00:25.850196Z"
    },
    "papermill": {
     "duration": 6.501973,
     "end_time": "2021-10-27T06:15:47.991990",
     "exception": false,
     "start_time": "2021-10-27T06:15:41.490017",
     "status": "completed"
    },
    "tags": []
   },
   "outputs": [],
   "source": [
    "import warnings\n",
    "warnings.filterwarnings(\"ignore\")\n",
    "\n",
    "import nltk\n",
    "from nltk import word_tokenize\n",
    "from nltk.corpus import brown as cb\n",
    "\n",
    "import pprint\n",
    "\n",
    "from sklearn.model_selection import train_test_split\n",
    "import tensorflow as tf\n",
    "from tensorflow.keras.preprocessing.text import Tokenizer\n",
    "from tensorflow.keras.preprocessing.sequence import pad_sequences\n",
    "from tensorflow.keras.models import Sequential\n",
    "from tensorflow.keras.layers import Embedding, LSTM, Dense, Bidirectional, Flatten, GlobalAveragePooling1D, TimeDistributed\n",
    "from tensorflow.keras.callbacks import ModelCheckpoint, EarlyStopping\n",
    "from tensorflow.keras.utils import to_categorical\n",
    "\n",
    "import numpy as np\n",
    "import seaborn as sns\n",
    "from matplotlib import pyplot as plt"
   ]
  },
  {
   "cell_type": "markdown",
   "id": "61ac8df6",
   "metadata": {
    "papermill": {
     "duration": 0.024078,
     "end_time": "2021-10-27T06:15:48.041124",
     "exception": false,
     "start_time": "2021-10-27T06:15:48.017046",
     "status": "completed"
    },
    "tags": []
   },
   "source": [
    "## 2. Loading of Brown Corpus Dataset from NLTK Library"
   ]
  },
  {
   "cell_type": "code",
   "execution_count": 2,
   "id": "c3a9b4e9",
   "metadata": {
    "execution": {
     "iopub.execute_input": "2021-10-27T06:15:48.094043Z",
     "iopub.status.busy": "2021-10-27T06:15:48.093413Z",
     "iopub.status.idle": "2021-10-27T06:15:52.312082Z",
     "shell.execute_reply": "2021-10-27T06:15:52.312692Z",
     "shell.execute_reply.started": "2021-10-27T05:27:57.007588Z"
    },
    "papermill": {
     "duration": 4.247684,
     "end_time": "2021-10-27T06:15:52.312912",
     "exception": false,
     "start_time": "2021-10-27T06:15:48.065228",
     "status": "completed"
    },
    "tags": []
   },
   "outputs": [
    {
     "name": "stdout",
     "output_type": "stream",
     "text": [
      "57340\n"
     ]
    }
   ],
   "source": [
    "tagged_sentences = cb.tagged_sents(tagset = 'universal')\n",
    "print(len(tagged_sentences))"
   ]
  },
  {
   "cell_type": "markdown",
   "id": "f7b84ec3",
   "metadata": {
    "papermill": {
     "duration": 0.024518,
     "end_time": "2021-10-27T06:15:52.369233",
     "exception": false,
     "start_time": "2021-10-27T06:15:52.344715",
     "status": "completed"
    },
    "tags": []
   },
   "source": [
    "## 3. Preprocessing"
   ]
  },
  {
   "cell_type": "markdown",
   "id": "fatal-print",
   "metadata": {},
   "source": [
    "### Untagging input into words and respective Tags"
   ]
  },
  {
   "cell_type": "code",
   "execution_count": 3,
   "id": "2c5ddecc",
   "metadata": {
    "execution": {
     "iopub.execute_input": "2021-10-27T06:15:52.426579Z",
     "iopub.status.busy": "2021-10-27T06:15:52.425758Z",
     "iopub.status.idle": "2021-10-27T06:15:52.427838Z",
     "shell.execute_reply": "2021-10-27T06:15:52.428213Z",
     "shell.execute_reply.started": "2021-10-27T05:00:35.739285Z"
    },
    "papermill": {
     "duration": 0.034539,
     "end_time": "2021-10-27T06:15:52.428345",
     "exception": false,
     "start_time": "2021-10-27T06:15:52.393806",
     "status": "completed"
    },
    "tags": []
   },
   "outputs": [],
   "source": [
    "def untag_sentences(tagged_sentences):\n",
    "    X = [] # input\n",
    "    Y = [] # expected output\n",
    "    \n",
    "    for sentence in tagged_sentences:\n",
    "        X_sentence = []\n",
    "        Y_sentence = []\n",
    "        for entity in sentence:         \n",
    "            X_sentence.append(entity[0])  # contains the word\n",
    "            Y_sentence.append(entity[1])  # contains corresponding tag\n",
    "\n",
    "        X.append(X_sentence)\n",
    "        Y.append(Y_sentence)\n",
    "    \n",
    "    num_words = len(set([word.lower() for sentence in X for word in sentence]))\n",
    "    num_tags   = len(set([word.lower() for sentence in Y for word in sentence]))\n",
    "\n",
    "    print(set([word for sentence in Y for word in sentence]))\n",
    "    print(\"Total number of tagged sentences: \",len(X))\n",
    "    print(\"Vocabulary size: \", num_words)\n",
    "    print(\"Total number of tags: \", num_tags)\n",
    "    \n",
    "    return X, Y"
   ]
  },
  {
   "cell_type": "code",
   "execution_count": 4,
   "id": "1ab7dad7",
   "metadata": {
    "execution": {
     "iopub.execute_input": "2021-10-27T06:15:52.482256Z",
     "iopub.status.busy": "2021-10-27T06:15:52.481012Z",
     "iopub.status.idle": "2021-10-27T06:15:57.401497Z",
     "shell.execute_reply": "2021-10-27T06:15:57.402205Z",
     "shell.execute_reply.started": "2021-10-27T05:56:28.012824Z"
    },
    "papermill": {
     "duration": 4.949673,
     "end_time": "2021-10-27T06:15:57.402415",
     "exception": false,
     "start_time": "2021-10-27T06:15:52.452742",
     "status": "completed"
    },
    "tags": []
   },
   "outputs": [
    {
     "name": "stdout",
     "output_type": "stream",
     "text": [
      "{'ADV', 'CONJ', 'NUM', 'VERB', 'PRON', 'X', 'ADJ', '.', 'PRT', 'ADP', 'DET', 'NOUN'}\n",
      "Total number of tagged sentences:  57340\n",
      "Vocabulary size:  49815\n",
      "Total number of tags:  12\n"
     ]
    }
   ],
   "source": [
    "X, Y = untag_sentences(tagged_sentences)"
   ]
  },
  {
   "cell_type": "markdown",
   "id": "834c6270",
   "metadata": {
    "papermill": {
     "duration": 0.024938,
     "end_time": "2021-10-27T06:15:57.453796",
     "exception": false,
     "start_time": "2021-10-27T06:15:57.428858",
     "status": "completed"
    },
    "tags": []
   },
   "source": [
    "### Sample Datapoint"
   ]
  },
  {
   "cell_type": "code",
   "execution_count": 5,
   "id": "7cf944c1",
   "metadata": {
    "execution": {
     "iopub.execute_input": "2021-10-27T06:15:57.510090Z",
     "iopub.status.busy": "2021-10-27T06:15:57.506801Z",
     "iopub.status.idle": "2021-10-27T06:15:57.513474Z",
     "shell.execute_reply": "2021-10-27T06:15:57.513034Z",
     "shell.execute_reply.started": "2021-10-27T05:56:22.317471Z"
    },
    "papermill": {
     "duration": 0.034674,
     "end_time": "2021-10-27T06:15:57.513608",
     "exception": false,
     "start_time": "2021-10-27T06:15:57.478934",
     "status": "completed"
    },
    "tags": []
   },
   "outputs": [
    {
     "name": "stdout",
     "output_type": "stream",
     "text": [
      "sample X:  ['The', 'Fulton', 'County', 'Grand', 'Jury', 'said', 'Friday', 'an', 'investigation', 'of', \"Atlanta's\", 'recent', 'primary', 'election', 'produced', '``', 'no', 'evidence', \"''\", 'that', 'any', 'irregularities', 'took', 'place', '.'] \n",
      "\n",
      "sample Y:  ['DET', 'NOUN', 'NOUN', 'ADJ', 'NOUN', 'VERB', 'NOUN', 'DET', 'NOUN', 'ADP', 'NOUN', 'ADJ', 'NOUN', 'NOUN', 'VERB', '.', 'DET', 'NOUN', '.', 'ADP', 'DET', 'NOUN', 'VERB', 'NOUN', '.'] \n",
      "\n",
      "Length of first input sequence:  25\n",
      "Length of first output sequence:  25\n"
     ]
    }
   ],
   "source": [
    "print('sample X: ', X[0], '\\n')\n",
    "print('sample Y: ', Y[0], '\\n')\n",
    "\n",
    "print(\"Length of first input sequence: \", len(X[0]))\n",
    "print(\"Length of first output sequence: \", len(Y[0]))"
   ]
  },
  {
   "cell_type": "markdown",
   "id": "be969a9a",
   "metadata": {
    "papermill": {
     "duration": 0.024829,
     "end_time": "2021-10-27T06:15:57.563854",
     "exception": false,
     "start_time": "2021-10-27T06:15:57.539025",
     "status": "completed"
    },
    "tags": []
   },
   "source": [
    "### Tokenizing Input and Expected Output"
   ]
  },
  {
   "cell_type": "code",
   "execution_count": 6,
   "id": "17f102b7",
   "metadata": {
    "execution": {
     "iopub.execute_input": "2021-10-27T06:15:57.668069Z",
     "iopub.status.busy": "2021-10-27T06:15:57.663032Z",
     "iopub.status.idle": "2021-10-27T06:16:00.486687Z",
     "shell.execute_reply": "2021-10-27T06:16:00.487156Z",
     "shell.execute_reply.started": "2021-10-27T05:00:41.115918Z"
    },
    "papermill": {
     "duration": 2.898299,
     "end_time": "2021-10-27T06:16:00.487325",
     "exception": false,
     "start_time": "2021-10-27T06:15:57.589026",
     "status": "completed"
    },
    "tags": []
   },
   "outputs": [],
   "source": [
    "word_tokenizer = Tokenizer()\n",
    "word_tokenizer.fit_on_texts(X)\n",
    "X_encoded = word_tokenizer.texts_to_sequences(X)\n",
    "\n",
    "tag_tokenizer = Tokenizer()\n",
    "tag_tokenizer.fit_on_texts(Y)\n",
    "TAGS = {v: k for k, v in tag_tokenizer.word_index.items()}\n",
    "Y_encoded = tag_tokenizer.texts_to_sequences(Y)"
   ]
  },
  {
   "cell_type": "code",
   "execution_count": 7,
   "id": "8d699346",
   "metadata": {
    "execution": {
     "iopub.execute_input": "2021-10-27T06:16:00.544783Z",
     "iopub.status.busy": "2021-10-27T06:16:00.543919Z",
     "iopub.status.idle": "2021-10-27T06:16:00.549743Z",
     "shell.execute_reply": "2021-10-27T06:16:00.550141Z",
     "shell.execute_reply.started": "2021-10-27T05:00:44.016477Z"
    },
    "papermill": {
     "duration": 0.036965,
     "end_time": "2021-10-27T06:16:00.550282",
     "exception": false,
     "start_time": "2021-10-27T06:16:00.513317",
     "status": "completed"
    },
    "tags": []
   },
   "outputs": [
    {
     "name": "stdout",
     "output_type": "stream",
     "text": [
      "{1: 'noun',\n",
      " 2: 'verb',\n",
      " 3: '.',\n",
      " 4: 'adp',\n",
      " 5: 'det',\n",
      " 6: 'adj',\n",
      " 7: 'adv',\n",
      " 8: 'pron',\n",
      " 9: 'conj',\n",
      " 10: 'prt',\n",
      " 11: 'num',\n",
      " 12: 'x'}\n"
     ]
    }
   ],
   "source": [
    "pprint.pprint(TAGS)"
   ]
  },
  {
   "cell_type": "markdown",
   "id": "53a74753",
   "metadata": {
    "papermill": {
     "duration": 0.025134,
     "end_time": "2021-10-27T06:16:00.600712",
     "exception": false,
     "start_time": "2021-10-27T06:16:00.575578",
     "status": "completed"
    },
    "tags": []
   },
   "source": [
    "### Sample Datapoint"
   ]
  },
  {
   "cell_type": "code",
   "execution_count": 8,
   "id": "ff36c012",
   "metadata": {
    "execution": {
     "iopub.execute_input": "2021-10-27T06:16:00.659480Z",
     "iopub.status.busy": "2021-10-27T06:16:00.658630Z",
     "iopub.status.idle": "2021-10-27T06:16:00.663483Z",
     "shell.execute_reply": "2021-10-27T06:16:00.664048Z",
     "shell.execute_reply.started": "2021-10-27T05:54:31.076925Z"
    },
    "papermill": {
     "duration": 0.038158,
     "end_time": "2021-10-27T06:16:00.664225",
     "exception": false,
     "start_time": "2021-10-27T06:16:00.626067",
     "status": "completed"
    },
    "tags": []
   },
   "outputs": [
    {
     "name": "stdout",
     "output_type": "stream",
     "text": [
      "RAW DATA SAMPLE \n",
      " ---------------------------------------------------------------------------------------------------- \n",
      "\n",
      "X:  ['The', 'Fulton', 'County', 'Grand', 'Jury', 'said', 'Friday', 'an', 'investigation', 'of', \"Atlanta's\", 'recent', 'primary', 'election', 'produced', '``', 'no', 'evidence', \"''\", 'that', 'any', 'irregularities', 'took', 'place', '.'] \n",
      "\n",
      "Y:  ['DET', 'NOUN', 'NOUN', 'ADJ', 'NOUN', 'VERB', 'NOUN', 'DET', 'NOUN', 'ADP', 'NOUN', 'ADJ', 'NOUN', 'NOUN', 'VERB', '.', 'DET', 'NOUN', '.', 'ADP', 'DET', 'NOUN', 'VERB', 'NOUN', '.'] \n",
      "\n",
      "\n",
      "ENCODED DATA SAMPLE \n",
      " ---------------------------------------------------------------------------------------------------- \n",
      "\n",
      "X:  [1, 5433, 651, 2296, 1634, 62, 1846, 35, 2177, 4, 14222, 551, 1120, 1401, 1193, 14, 59, 473, 15, 9, 85, 9199, 213, 171, 3] \n",
      "\n",
      "Y:  [5, 1, 1, 6, 1, 2, 1, 5, 1, 4, 1, 6, 1, 1, 2, 3, 5, 1, 3, 4, 5, 1, 2, 1, 3] \n",
      "\n"
     ]
    }
   ],
   "source": [
    "print(\"RAW DATA SAMPLE\", \"\\n\", \"-\"*100, \"\\n\")\n",
    "print('X: ', X[0], '\\n')\n",
    "print('Y: ', Y[0], '\\n')\n",
    "\n",
    "print()\n",
    "print(\"ENCODED DATA SAMPLE\", \"\\n\", \"-\"*100, \"\\n\")\n",
    "print('X: ', X_encoded[0], '\\n')\n",
    "print('Y: ', Y_encoded[0], '\\n')"
   ]
  },
  {
   "cell_type": "markdown",
   "id": "262ed835",
   "metadata": {
    "papermill": {
     "duration": 0.031302,
     "end_time": "2021-10-27T06:16:00.722223",
     "exception": false,
     "start_time": "2021-10-27T06:16:00.690921",
     "status": "completed"
    },
    "tags": []
   },
   "source": [
    "### Padding"
   ]
  },
  {
   "cell_type": "code",
   "execution_count": 9,
   "id": "dcb802ec",
   "metadata": {
    "execution": {
     "iopub.execute_input": "2021-10-27T06:16:00.795250Z",
     "iopub.status.busy": "2021-10-27T06:16:00.793843Z",
     "iopub.status.idle": "2021-10-27T06:16:01.848199Z",
     "shell.execute_reply": "2021-10-27T06:16:01.847158Z",
     "shell.execute_reply.started": "2021-10-27T05:53:28.983025Z"
    },
    "papermill": {
     "duration": 1.098703,
     "end_time": "2021-10-27T06:16:01.848357",
     "exception": false,
     "start_time": "2021-10-27T06:16:00.749654",
     "status": "completed"
    },
    "tags": []
   },
   "outputs": [
    {
     "name": "stdout",
     "output_type": "stream",
     "text": [
      "Length of longest sentence:  180\n"
     ]
    }
   ],
   "source": [
    "lengths = [len(seq) for seq in X_encoded]\n",
    "print(\"Length of longest sentence: \", max(lengths))\n",
    "\n",
    "max_length = max(lengths)\n",
    "trunc_type = 'post'\n",
    "pad_type = 'post'\n",
    "\n",
    "X_padded = pad_sequences(X_encoded, maxlen=max_length, truncating=trunc_type, padding=pad_type)\n",
    "Y_padded = pad_sequences(Y_encoded, maxlen=max_length, truncating=trunc_type, padding=pad_type, value = -1)"
   ]
  },
  {
   "cell_type": "markdown",
   "id": "fec54a46",
   "metadata": {
    "papermill": {
     "duration": 0.026928,
     "end_time": "2021-10-27T06:16:01.904168",
     "exception": false,
     "start_time": "2021-10-27T06:16:01.877240",
     "status": "completed"
    },
    "tags": []
   },
   "source": [
    "### One Hot Encoding the Expected Output"
   ]
  },
  {
   "cell_type": "code",
   "execution_count": 10,
   "id": "600819c4",
   "metadata": {
    "execution": {
     "iopub.execute_input": "2021-10-27T06:16:01.961810Z",
     "iopub.status.busy": "2021-10-27T06:16:01.960703Z",
     "iopub.status.idle": "2021-10-27T06:16:02.364803Z",
     "shell.execute_reply": "2021-10-27T06:16:02.364263Z",
     "shell.execute_reply.started": "2021-10-27T05:00:48.424372Z"
    },
    "papermill": {
     "duration": 0.434669,
     "end_time": "2021-10-27T06:16:02.364960",
     "exception": false,
     "start_time": "2021-10-27T06:16:01.930291",
     "status": "completed"
    },
    "tags": []
   },
   "outputs": [],
   "source": [
    "Y = to_categorical(Y_padded)"
   ]
  },
  {
   "cell_type": "markdown",
   "id": "8df53e55",
   "metadata": {
    "papermill": {
     "duration": 0.025753,
     "end_time": "2021-10-27T06:16:02.417356",
     "exception": false,
     "start_time": "2021-10-27T06:16:02.391603",
     "status": "completed"
    },
    "tags": []
   },
   "source": [
    "### Splitting Data into Training, Testing and Validation Set"
   ]
  },
  {
   "cell_type": "code",
   "execution_count": 11,
   "id": "8e466299",
   "metadata": {
    "execution": {
     "iopub.execute_input": "2021-10-27T06:16:02.476539Z",
     "iopub.status.busy": "2021-10-27T06:16:02.475386Z",
     "iopub.status.idle": "2021-10-27T06:16:02.791931Z",
     "shell.execute_reply": "2021-10-27T06:16:02.791000Z",
     "shell.execute_reply.started": "2021-10-27T05:00:51.034278Z"
    },
    "papermill": {
     "duration": 0.348091,
     "end_time": "2021-10-27T06:16:02.792076",
     "exception": false,
     "start_time": "2021-10-27T06:16:02.443985",
     "status": "completed"
    },
    "tags": []
   },
   "outputs": [],
   "source": [
    "TEST_SIZE = 0.15\n",
    "X_train, X_test, Y_train, Y_test = train_test_split(X_padded, Y, test_size=TEST_SIZE, shuffle=False)\n",
    "\n",
    "VALID_SIZE = 0.15\n",
    "X_train, X_validation, Y_train, Y_validation = train_test_split(X_train, Y_train, test_size=VALID_SIZE, \\\n",
    "                                                                shuffle=False)"
   ]
  },
  {
   "cell_type": "code",
   "execution_count": 12,
   "id": "b930fdd3",
   "metadata": {
    "execution": {
     "iopub.execute_input": "2021-10-27T06:16:02.849423Z",
     "iopub.status.busy": "2021-10-27T06:16:02.848601Z",
     "iopub.status.idle": "2021-10-27T06:16:02.851805Z",
     "shell.execute_reply": "2021-10-27T06:16:02.852221Z"
    },
    "papermill": {
     "duration": 0.034232,
     "end_time": "2021-10-27T06:16:02.852355",
     "exception": false,
     "start_time": "2021-10-27T06:16:02.818123",
     "status": "completed"
    },
    "tags": []
   },
   "outputs": [
    {
     "name": "stdout",
     "output_type": "stream",
     "text": [
      "Number of Training Instances:  41428\n",
      "Number of Testing Instances:  8601\n",
      "Number of Validation Instances:  7311\n"
     ]
    }
   ],
   "source": [
    "print(\"Number of Training Instances: \", len(X_train))\n",
    "print(\"Number of Testing Instances: \", len(X_test))\n",
    "print(\"Number of Validation Instances: \", len(X_validation))"
   ]
  },
  {
   "cell_type": "code",
   "execution_count": 13,
   "id": "7d6ff65f",
   "metadata": {
    "execution": {
     "iopub.execute_input": "2021-10-27T06:16:02.912934Z",
     "iopub.status.busy": "2021-10-27T06:16:02.912292Z",
     "iopub.status.idle": "2021-10-27T06:16:02.915795Z",
     "shell.execute_reply": "2021-10-27T06:16:02.916176Z",
     "shell.execute_reply.started": "2021-10-27T05:53:14.284997Z"
    },
    "papermill": {
     "duration": 0.037588,
     "end_time": "2021-10-27T06:16:02.916312",
     "exception": false,
     "start_time": "2021-10-27T06:16:02.878724",
     "status": "completed"
    },
    "tags": []
   },
   "outputs": [
    {
     "name": "stdout",
     "output_type": "stream",
     "text": [
      "TRAINING DATA\n",
      "Shape of input sequences:  (41428, 180)\n",
      "Shape of output sequences:  (41428, 180, 13)\n",
      "--------------------------------------------------\n",
      "VALIDATION DATA\n",
      "Shape of input sequences:  (7311, 180)\n",
      "Shape of output sequences:  (7311, 180, 13)\n",
      "--------------------------------------------------\n",
      "TESTING DATA\n",
      "Shape of input sequences:  (8601, 180)\n",
      "Shape of output sequences:  (8601, 180, 13)\n"
     ]
    }
   ],
   "source": [
    "print(\"TRAINING DATA\")\n",
    "print('Shape of input sequences: ', X_train.shape)\n",
    "print('Shape of output sequences: ', Y_train.shape)\n",
    "print(\"-\"*50)\n",
    "print(\"VALIDATION DATA\")\n",
    "print('Shape of input sequences: ', X_validation.shape)\n",
    "print('Shape of output sequences: ', Y_validation.shape)\n",
    "print(\"-\"*50)\n",
    "print(\"TESTING DATA\")\n",
    "print('Shape of input sequences: ', X_test.shape)\n",
    "print('Shape of output sequences: ', Y_test.shape)"
   ]
  },
  {
   "cell_type": "markdown",
   "id": "3df318c4",
   "metadata": {
    "papermill": {
     "duration": 0.026601,
     "end_time": "2021-10-27T06:16:02.969438",
     "exception": false,
     "start_time": "2021-10-27T06:16:02.942837",
     "status": "completed"
    },
    "tags": []
   },
   "source": [
    "## 3. Model"
   ]
  },
  {
   "cell_type": "markdown",
   "id": "f28bcb29",
   "metadata": {
    "papermill": {
     "duration": 0.026166,
     "end_time": "2021-10-27T06:16:03.021920",
     "exception": false,
     "start_time": "2021-10-27T06:16:02.995754",
     "status": "completed"
    },
    "tags": []
   },
   "source": [
    "### Model Creation"
   ]
  },
  {
   "cell_type": "code",
   "execution_count": 14,
   "id": "59e82738",
   "metadata": {
    "execution": {
     "iopub.execute_input": "2021-10-27T06:16:03.081215Z",
     "iopub.status.busy": "2021-10-27T06:16:03.080653Z",
     "iopub.status.idle": "2021-10-27T06:16:05.996913Z",
     "shell.execute_reply": "2021-10-27T06:16:05.995481Z",
     "shell.execute_reply.started": "2021-10-27T05:05:33.172376Z"
    },
    "papermill": {
     "duration": 2.948565,
     "end_time": "2021-10-27T06:16:05.997089",
     "exception": false,
     "start_time": "2021-10-27T06:16:03.048524",
     "status": "completed"
    },
    "tags": []
   },
   "outputs": [
    {
     "name": "stderr",
     "output_type": "stream",
     "text": [
      "2021-10-27 06:16:03.151650: I tensorflow/stream_executor/cuda/cuda_gpu_executor.cc:937] successful NUMA node read from SysFS had negative value (-1), but there must be at least one NUMA node, so returning NUMA node zero\n",
      "2021-10-27 06:16:03.248883: I tensorflow/stream_executor/cuda/cuda_gpu_executor.cc:937] successful NUMA node read from SysFS had negative value (-1), but there must be at least one NUMA node, so returning NUMA node zero\n",
      "2021-10-27 06:16:03.249723: I tensorflow/stream_executor/cuda/cuda_gpu_executor.cc:937] successful NUMA node read from SysFS had negative value (-1), but there must be at least one NUMA node, so returning NUMA node zero\n",
      "2021-10-27 06:16:03.251600: I tensorflow/core/platform/cpu_feature_guard.cc:142] This TensorFlow binary is optimized with oneAPI Deep Neural Network Library (oneDNN) to use the following CPU instructions in performance-critical operations:  AVX2 AVX512F FMA\n",
      "To enable them in other operations, rebuild TensorFlow with the appropriate compiler flags.\n",
      "2021-10-27 06:16:03.252791: I tensorflow/stream_executor/cuda/cuda_gpu_executor.cc:937] successful NUMA node read from SysFS had negative value (-1), but there must be at least one NUMA node, so returning NUMA node zero\n",
      "2021-10-27 06:16:03.253553: I tensorflow/stream_executor/cuda/cuda_gpu_executor.cc:937] successful NUMA node read from SysFS had negative value (-1), but there must be at least one NUMA node, so returning NUMA node zero\n",
      "2021-10-27 06:16:03.254240: I tensorflow/stream_executor/cuda/cuda_gpu_executor.cc:937] successful NUMA node read from SysFS had negative value (-1), but there must be at least one NUMA node, so returning NUMA node zero\n",
      "2021-10-27 06:16:05.220927: I tensorflow/stream_executor/cuda/cuda_gpu_executor.cc:937] successful NUMA node read from SysFS had negative value (-1), but there must be at least one NUMA node, so returning NUMA node zero\n",
      "2021-10-27 06:16:05.221698: I tensorflow/stream_executor/cuda/cuda_gpu_executor.cc:937] successful NUMA node read from SysFS had negative value (-1), but there must be at least one NUMA node, so returning NUMA node zero\n",
      "2021-10-27 06:16:05.222344: I tensorflow/stream_executor/cuda/cuda_gpu_executor.cc:937] successful NUMA node read from SysFS had negative value (-1), but there must be at least one NUMA node, so returning NUMA node zero\n",
      "2021-10-27 06:16:05.222937: I tensorflow/core/common_runtime/gpu/gpu_device.cc:1510] Created device /job:localhost/replica:0/task:0/device:GPU:0 with 15403 MB memory:  -> device: 0, name: Tesla P100-PCIE-16GB, pci bus id: 0000:00:04.0, compute capability: 6.0\n"
     ]
    }
   ],
   "source": [
    "embedding_dim = 300\n",
    "vocab_size = len(word_tokenizer.word_index) + 1\n",
    "num_classes = Y.shape[2]\n",
    "\n",
    "model = Sequential()\n",
    "model.add(Embedding(vocab_size, embedding_dim, input_length=max_length))\n",
    "model.add(LSTM(32, return_sequences=True))\n",
    "model.add(Dense(32, activation=\"relu\"))\n",
    "model.add(Dense(16, activation=\"relu\"))\n",
    "model.add(Dense(num_classes, activation='softmax'))"
   ]
  },
  {
   "cell_type": "markdown",
   "id": "34c4057a",
   "metadata": {
    "papermill": {
     "duration": 0.043844,
     "end_time": "2021-10-27T06:16:06.085077",
     "exception": false,
     "start_time": "2021-10-27T06:16:06.041233",
     "status": "completed"
    },
    "tags": []
   },
   "source": [
    "### Model Compilation"
   ]
  },
  {
   "cell_type": "code",
   "execution_count": 15,
   "id": "857a5cc3",
   "metadata": {
    "execution": {
     "iopub.execute_input": "2021-10-27T06:16:06.243377Z",
     "iopub.status.busy": "2021-10-27T06:16:06.242516Z",
     "iopub.status.idle": "2021-10-27T06:16:06.252777Z",
     "shell.execute_reply": "2021-10-27T06:16:06.252328Z",
     "shell.execute_reply.started": "2021-10-27T05:05:33.630152Z"
    },
    "papermill": {
     "duration": 0.124068,
     "end_time": "2021-10-27T06:16:06.252900",
     "exception": false,
     "start_time": "2021-10-27T06:16:06.128832",
     "status": "completed"
    },
    "tags": []
   },
   "outputs": [],
   "source": [
    "optimizer = tf.keras.optimizers.Adam(lr = 0.0001)\n",
    "model.compile(\n",
    "    loss = \"categorical_crossentropy\",\n",
    "    optimizer = optimizer,\n",
    "    metrics = [\"accuracy\"]\n",
    ")"
   ]
  },
  {
   "cell_type": "code",
   "execution_count": 16,
   "id": "0b06b38f",
   "metadata": {
    "execution": {
     "iopub.execute_input": "2021-10-27T06:16:06.316282Z",
     "iopub.status.busy": "2021-10-27T06:16:06.312198Z",
     "iopub.status.idle": "2021-10-27T06:16:06.319910Z",
     "shell.execute_reply": "2021-10-27T06:16:06.320669Z",
     "shell.execute_reply.started": "2021-10-27T05:05:36.403099Z"
    },
    "papermill": {
     "duration": 0.039889,
     "end_time": "2021-10-27T06:16:06.320843",
     "exception": false,
     "start_time": "2021-10-27T06:16:06.280954",
     "status": "completed"
    },
    "tags": []
   },
   "outputs": [
    {
     "name": "stdout",
     "output_type": "stream",
     "text": [
      "Model: \"sequential\"\n",
      "_________________________________________________________________\n",
      "Layer (type)                 Output Shape              Param #   \n",
      "=================================================================\n",
      "embedding (Embedding)        (None, 180, 300)          14944800  \n",
      "_________________________________________________________________\n",
      "lstm (LSTM)                  (None, 180, 32)           42624     \n",
      "_________________________________________________________________\n",
      "dense (Dense)                (None, 180, 32)           1056      \n",
      "_________________________________________________________________\n",
      "dense_1 (Dense)              (None, 180, 16)           528       \n",
      "_________________________________________________________________\n",
      "dense_2 (Dense)              (None, 180, 13)           221       \n",
      "=================================================================\n",
      "Total params: 14,989,229\n",
      "Trainable params: 14,989,229\n",
      "Non-trainable params: 0\n",
      "_________________________________________________________________\n"
     ]
    }
   ],
   "source": [
    "model.summary()"
   ]
  },
  {
   "cell_type": "markdown",
   "id": "7dd5e974",
   "metadata": {
    "papermill": {
     "duration": 0.027011,
     "end_time": "2021-10-27T06:16:06.375680",
     "exception": false,
     "start_time": "2021-10-27T06:16:06.348669",
     "status": "completed"
    },
    "tags": []
   },
   "source": [
    "### Callbacks and Early Stopping"
   ]
  },
  {
   "cell_type": "code",
   "execution_count": 17,
   "id": "3842b68b",
   "metadata": {
    "execution": {
     "iopub.execute_input": "2021-10-27T06:16:06.437251Z",
     "iopub.status.busy": "2021-10-27T06:16:06.436442Z",
     "iopub.status.idle": "2021-10-27T06:16:06.438589Z",
     "shell.execute_reply": "2021-10-27T06:16:06.438982Z",
     "shell.execute_reply.started": "2021-10-27T05:43:28.559242Z"
    },
    "papermill": {
     "duration": 0.035909,
     "end_time": "2021-10-27T06:16:06.439114",
     "exception": false,
     "start_time": "2021-10-27T06:16:06.403205",
     "status": "completed"
    },
    "tags": []
   },
   "outputs": [],
   "source": [
    "filepath = 'my_checkpoint.ckpt'\n",
    "cp = ModelCheckpoint(\n",
    "    filepath=filepath,\n",
    "    save_weights_only=True,\n",
    "    save_best_only=True,\n",
    "    monitor='val_accuracy',\n",
    "    verbose=1\n",
    ")\n",
    "\n",
    "ep = EarlyStopping(\n",
    "    monitor='val_accuracy', \n",
    "    patience=3,\n",
    ")"
   ]
  },
  {
   "cell_type": "markdown",
   "id": "e26296eb",
   "metadata": {
    "papermill": {
     "duration": 0.026888,
     "end_time": "2021-10-27T06:16:06.493193",
     "exception": false,
     "start_time": "2021-10-27T06:16:06.466305",
     "status": "completed"
    },
    "tags": []
   },
   "source": [
    "### Training"
   ]
  },
  {
   "cell_type": "code",
   "execution_count": 18,
   "id": "de95e68e",
   "metadata": {
    "execution": {
     "iopub.execute_input": "2021-10-27T06:16:06.552581Z",
     "iopub.status.busy": "2021-10-27T06:16:06.551923Z",
     "iopub.status.idle": "2021-10-27T06:19:18.792524Z",
     "shell.execute_reply": "2021-10-27T06:19:18.791985Z",
     "shell.execute_reply.started": "2021-10-27T05:43:50.304736Z"
    },
    "papermill": {
     "duration": 192.27234,
     "end_time": "2021-10-27T06:19:18.792668",
     "exception": false,
     "start_time": "2021-10-27T06:16:06.520328",
     "status": "completed"
    },
    "tags": []
   },
   "outputs": [
    {
     "name": "stderr",
     "output_type": "stream",
     "text": [
      "2021-10-27 06:16:07.276938: I tensorflow/compiler/mlir/mlir_graph_optimization_pass.cc:185] None of the MLIR Optimization Passes are enabled (registered 2)\n"
     ]
    },
    {
     "name": "stdout",
     "output_type": "stream",
     "text": [
      "Epoch 1/30\n"
     ]
    },
    {
     "name": "stderr",
     "output_type": "stream",
     "text": [
      "2021-10-27 06:16:09.611725: I tensorflow/stream_executor/cuda/cuda_dnn.cc:369] Loaded cuDNN version 8005\n"
     ]
    },
    {
     "name": "stdout",
     "output_type": "stream",
     "text": [
      "324/324 [==============================] - 10s 21ms/step - loss: 1.4751 - accuracy: 0.5568 - val_loss: 0.3840 - val_accuracy: 0.9171\n",
      "\n",
      "Epoch 00001: val_accuracy improved from -inf to 0.91710, saving model to my_checkpoint.ckpt\n",
      "Epoch 2/30\n",
      "324/324 [==============================] - 6s 19ms/step - loss: 0.3633 - accuracy: 0.8852 - val_loss: 0.2273 - val_accuracy: 0.9289\n",
      "\n",
      "Epoch 00002: val_accuracy improved from 0.91710 to 0.92891, saving model to my_checkpoint.ckpt\n",
      "Epoch 3/30\n",
      "324/324 [==============================] - 6s 19ms/step - loss: 0.2912 - accuracy: 0.9027 - val_loss: 0.1788 - val_accuracy: 0.9440\n",
      "\n",
      "Epoch 00003: val_accuracy improved from 0.92891 to 0.94402, saving model to my_checkpoint.ckpt\n",
      "Epoch 4/30\n",
      "324/324 [==============================] - 6s 19ms/step - loss: 0.2157 - accuracy: 0.9367 - val_loss: 0.1284 - val_accuracy: 0.9666\n",
      "\n",
      "Epoch 00004: val_accuracy improved from 0.94402 to 0.96661, saving model to my_checkpoint.ckpt\n",
      "Epoch 5/30\n",
      "324/324 [==============================] - 6s 19ms/step - loss: 0.1473 - accuracy: 0.9620 - val_loss: 0.0903 - val_accuracy: 0.9726\n",
      "\n",
      "Epoch 00005: val_accuracy improved from 0.96661 to 0.97262, saving model to my_checkpoint.ckpt\n",
      "Epoch 6/30\n",
      "324/324 [==============================] - 6s 19ms/step - loss: 0.1039 - accuracy: 0.9685 - val_loss: 0.0639 - val_accuracy: 0.9818\n",
      "\n",
      "Epoch 00006: val_accuracy improved from 0.97262 to 0.98176, saving model to my_checkpoint.ckpt\n",
      "Epoch 7/30\n",
      "324/324 [==============================] - 6s 19ms/step - loss: 0.0716 - accuracy: 0.9807 - val_loss: 0.0446 - val_accuracy: 0.9884\n",
      "\n",
      "Epoch 00007: val_accuracy improved from 0.98176 to 0.98842, saving model to my_checkpoint.ckpt\n",
      "Epoch 8/30\n",
      "324/324 [==============================] - 6s 19ms/step - loss: 0.0481 - accuracy: 0.9885 - val_loss: 0.0330 - val_accuracy: 0.9923\n",
      "\n",
      "Epoch 00008: val_accuracy improved from 0.98842 to 0.99229, saving model to my_checkpoint.ckpt\n",
      "Epoch 9/30\n",
      "324/324 [==============================] - 6s 18ms/step - loss: 0.0340 - accuracy: 0.9917 - val_loss: 0.0264 - val_accuracy: 0.9935\n",
      "\n",
      "Epoch 00009: val_accuracy improved from 0.99229 to 0.99350, saving model to my_checkpoint.ckpt\n",
      "Epoch 10/30\n",
      "324/324 [==============================] - 6s 19ms/step - loss: 0.0255 - accuracy: 0.9933 - val_loss: 0.0226 - val_accuracy: 0.9944\n",
      "\n",
      "Epoch 00010: val_accuracy improved from 0.99350 to 0.99439, saving model to my_checkpoint.ckpt\n",
      "Epoch 11/30\n",
      "324/324 [==============================] - 6s 19ms/step - loss: 0.0203 - accuracy: 0.9948 - val_loss: 0.0201 - val_accuracy: 0.9948\n",
      "\n",
      "Epoch 00011: val_accuracy improved from 0.99439 to 0.99477, saving model to my_checkpoint.ckpt\n",
      "Epoch 12/30\n",
      "324/324 [==============================] - 6s 19ms/step - loss: 0.0170 - accuracy: 0.9953 - val_loss: 0.0184 - val_accuracy: 0.9949\n",
      "\n",
      "Epoch 00012: val_accuracy improved from 0.99477 to 0.99495, saving model to my_checkpoint.ckpt\n",
      "Epoch 13/30\n",
      "324/324 [==============================] - 6s 19ms/step - loss: 0.0147 - accuracy: 0.9957 - val_loss: 0.0172 - val_accuracy: 0.9951\n",
      "\n",
      "Epoch 00013: val_accuracy improved from 0.99495 to 0.99515, saving model to my_checkpoint.ckpt\n",
      "Epoch 14/30\n",
      "324/324 [==============================] - 6s 18ms/step - loss: 0.0131 - accuracy: 0.9960 - val_loss: 0.0161 - val_accuracy: 0.9953\n",
      "\n",
      "Epoch 00014: val_accuracy improved from 0.99515 to 0.99529, saving model to my_checkpoint.ckpt\n",
      "Epoch 15/30\n",
      "324/324 [==============================] - 6s 19ms/step - loss: 0.0119 - accuracy: 0.9963 - val_loss: 0.0156 - val_accuracy: 0.9954\n",
      "\n",
      "Epoch 00015: val_accuracy improved from 0.99529 to 0.99540, saving model to my_checkpoint.ckpt\n",
      "Epoch 16/30\n",
      "324/324 [==============================] - 6s 18ms/step - loss: 0.0110 - accuracy: 0.9965 - val_loss: 0.0151 - val_accuracy: 0.9955\n",
      "\n",
      "Epoch 00016: val_accuracy improved from 0.99540 to 0.99550, saving model to my_checkpoint.ckpt\n",
      "Epoch 17/30\n",
      "324/324 [==============================] - 6s 19ms/step - loss: 0.0102 - accuracy: 0.9967 - val_loss: 0.0147 - val_accuracy: 0.9956\n",
      "\n",
      "Epoch 00017: val_accuracy improved from 0.99550 to 0.99561, saving model to my_checkpoint.ckpt\n",
      "Epoch 18/30\n",
      "324/324 [==============================] - 6s 19ms/step - loss: 0.0096 - accuracy: 0.9969 - val_loss: 0.0144 - val_accuracy: 0.9956\n",
      "\n",
      "Epoch 00018: val_accuracy improved from 0.99561 to 0.99563, saving model to my_checkpoint.ckpt\n",
      "Epoch 19/30\n",
      "324/324 [==============================] - 6s 18ms/step - loss: 0.0091 - accuracy: 0.9970 - val_loss: 0.0143 - val_accuracy: 0.9957\n",
      "\n",
      "Epoch 00019: val_accuracy improved from 0.99563 to 0.99566, saving model to my_checkpoint.ckpt\n",
      "Epoch 20/30\n",
      "324/324 [==============================] - 6s 19ms/step - loss: 0.0086 - accuracy: 0.9972 - val_loss: 0.0142 - val_accuracy: 0.9957\n",
      "\n",
      "Epoch 00020: val_accuracy improved from 0.99566 to 0.99566, saving model to my_checkpoint.ckpt\n",
      "Epoch 21/30\n",
      "324/324 [==============================] - 6s 18ms/step - loss: 0.0082 - accuracy: 0.9973 - val_loss: 0.0141 - val_accuracy: 0.9957\n",
      "\n",
      "Epoch 00021: val_accuracy improved from 0.99566 to 0.99569, saving model to my_checkpoint.ckpt\n",
      "Epoch 22/30\n",
      "324/324 [==============================] - 6s 19ms/step - loss: 0.0078 - accuracy: 0.9974 - val_loss: 0.0141 - val_accuracy: 0.9957\n",
      "\n",
      "Epoch 00022: val_accuracy did not improve from 0.99569\n",
      "Epoch 23/30\n",
      "324/324 [==============================] - 6s 19ms/step - loss: 0.0075 - accuracy: 0.9975 - val_loss: 0.0141 - val_accuracy: 0.9956\n",
      "\n",
      "Epoch 00023: val_accuracy did not improve from 0.99569\n",
      "Epoch 24/30\n",
      "324/324 [==============================] - 6s 18ms/step - loss: 0.0072 - accuracy: 0.9976 - val_loss: 0.0141 - val_accuracy: 0.9957\n",
      "\n",
      "Epoch 00024: val_accuracy improved from 0.99569 to 0.99570, saving model to my_checkpoint.ckpt\n",
      "Epoch 25/30\n",
      "324/324 [==============================] - 6s 19ms/step - loss: 0.0069 - accuracy: 0.9977 - val_loss: 0.0141 - val_accuracy: 0.9957\n",
      "\n",
      "Epoch 00025: val_accuracy improved from 0.99570 to 0.99570, saving model to my_checkpoint.ckpt\n",
      "Epoch 26/30\n",
      "324/324 [==============================] - 6s 18ms/step - loss: 0.0066 - accuracy: 0.9978 - val_loss: 0.0143 - val_accuracy: 0.9957\n",
      "\n",
      "Epoch 00026: val_accuracy improved from 0.99570 to 0.99571, saving model to my_checkpoint.ckpt\n",
      "Epoch 27/30\n",
      "324/324 [==============================] - 6s 19ms/step - loss: 0.0063 - accuracy: 0.9979 - val_loss: 0.0145 - val_accuracy: 0.9956\n",
      "\n",
      "Epoch 00027: val_accuracy did not improve from 0.99571\n",
      "Epoch 28/30\n",
      "324/324 [==============================] - 6s 20ms/step - loss: 0.0061 - accuracy: 0.9980 - val_loss: 0.0145 - val_accuracy: 0.9957\n",
      "\n",
      "Epoch 00028: val_accuracy did not improve from 0.99571\n",
      "Epoch 29/30\n",
      "324/324 [==============================] - 6s 18ms/step - loss: 0.0058 - accuracy: 0.9981 - val_loss: 0.0148 - val_accuracy: 0.9957\n",
      "\n",
      "Epoch 00029: val_accuracy did not improve from 0.99571\n"
     ]
    }
   ],
   "source": [
    "history = model.fit(X_train, Y_train,\n",
    "                    batch_size=128,\n",
    "                    epochs=30,\n",
    "                    validation_data=(X_validation, Y_validation),\n",
    "                    callbacks=[cp,ep]\n",
    "                   )"
   ]
  },
  {
   "cell_type": "markdown",
   "id": "11894104",
   "metadata": {
    "papermill": {
     "duration": 0.865067,
     "end_time": "2021-10-27T06:19:20.499499",
     "exception": false,
     "start_time": "2021-10-27T06:19:19.634432",
     "status": "completed"
    },
    "tags": []
   },
   "source": [
    "## 4. Graphs"
   ]
  },
  {
   "cell_type": "code",
   "execution_count": 19,
   "id": "6c50d1d4",
   "metadata": {
    "execution": {
     "iopub.execute_input": "2021-10-27T06:19:22.189450Z",
     "iopub.status.busy": "2021-10-27T06:19:22.188461Z",
     "iopub.status.idle": "2021-10-27T06:19:22.598777Z",
     "shell.execute_reply": "2021-10-27T06:19:22.599539Z",
     "shell.execute_reply.started": "2021-10-27T05:50:23.363740Z"
    },
    "papermill": {
     "duration": 1.263684,
     "end_time": "2021-10-27T06:19:22.599757",
     "exception": false,
     "start_time": "2021-10-27T06:19:21.336073",
     "status": "completed"
    },
    "tags": []
   },
   "outputs": [
    {
     "name": "stdout",
     "output_type": "stream",
     "text": [
      "dict_keys(['loss', 'accuracy', 'val_loss', 'val_accuracy'])\n"
     ]
    },
    {
     "data": {
      "image/png": "[encoded data removed]",
      "text/plain": [
       "<Figure size 432x288 with 1 Axes>"
      ]
     },
     "metadata": {
      "needs_background": "light"
     },
     "output_type": "display_data"
    },
    {
     "data": {
      "image/png": "[encoded data removed]",
      "text/plain": [
       "<Figure size 432x288 with 1 Axes>"
      ]
     },
     "metadata": {
      "needs_background": "light"
     },
     "output_type": "display_data"
    }
   ],
   "source": [
    "print(history.history.keys())\n",
    "plt.axes().set(facecolor =\"white\")\n",
    "plt.plot(history.history['accuracy'],color='c')\n",
    "plt.plot(history.history['val_accuracy'],color='m')\n",
    "plt.title('model accuracy').set_color('white')\n",
    "plt.ylabel('accuracy').set_color('white')\n",
    "plt.xlabel('epoch').set_color('white')\n",
    "plt.legend(['train', 'validation'], loc='upper left')\n",
    "\n",
    "plt.show()\n",
    "\n",
    "plt.axes().set(facecolor =\"white\")\n",
    "plt.plot(history.history['loss'])\n",
    "plt.plot(history.history['val_loss'])\n",
    "plt.legend(['train', 'validation'], loc='upper left')\n",
    "plt.title('model loss').set_color('white')\n",
    "plt.ylabel('loss').set_color('white')\n",
    "plt.xlabel('epoch').set_color('white')\n",
    "plt.show()"
   ]
  },
  {
   "cell_type": "markdown",
   "id": "66805630",
   "metadata": {
    "papermill": {
     "duration": 1.149392,
     "end_time": "2021-10-27T06:19:24.596195",
     "exception": false,
     "start_time": "2021-10-27T06:19:23.446803",
     "status": "completed"
    },
    "tags": []
   },
   "source": [
    "## 5. Accuracy and Loss"
   ]
  },
  {
   "cell_type": "code",
   "execution_count": 20,
   "id": "48cbceb9",
   "metadata": {
    "execution": {
     "iopub.execute_input": "2021-10-27T06:19:26.288018Z",
     "iopub.status.busy": "2021-10-27T06:19:26.286836Z",
     "iopub.status.idle": "2021-10-27T06:19:27.881298Z",
     "shell.execute_reply": "2021-10-27T06:19:27.881917Z",
     "shell.execute_reply.started": "2021-10-27T05:50:21.655878Z"
    },
    "papermill": {
     "duration": 2.433735,
     "end_time": "2021-10-27T06:19:27.882116",
     "exception": false,
     "start_time": "2021-10-27T06:19:25.448381",
     "status": "completed"
    },
    "tags": []
   },
   "outputs": [
    {
     "name": "stdout",
     "output_type": "stream",
     "text": [
      "269/269 [==============================] - 1s 5ms/step - loss: 0.0175 - accuracy: 0.9950\n",
      "Loss:  0.01754867285490036\n",
      "Accuracy: 99.50%\n"
     ]
    }
   ],
   "source": [
    "loss, accuracy = model.evaluate(X_test, Y_test, verbose = 1)\n",
    "print(\"Loss: \", loss)\n",
    "print(\"Accuracy: %0.2f%%\"%(accuracy * 100))"
   ]
  },
  {
   "cell_type": "markdown",
   "id": "a45c9178",
   "metadata": {
    "papermill": {
     "duration": 0.848174,
     "end_time": "2021-10-27T06:19:29.578611",
     "exception": false,
     "start_time": "2021-10-27T06:19:28.730437",
     "status": "completed"
    },
    "tags": []
   },
   "source": [
    "## 6. Applying model to predict new instances"
   ]
  },
  {
   "cell_type": "code",
   "execution_count": 21,
   "id": "3133f2dd",
   "metadata": {
    "execution": {
     "iopub.execute_input": "2021-10-27T06:19:31.300529Z",
     "iopub.status.busy": "2021-10-27T06:19:31.299688Z",
     "iopub.status.idle": "2021-10-27T06:19:31.301698Z",
     "shell.execute_reply": "2021-10-27T06:19:31.302092Z",
     "shell.execute_reply.started": "2021-10-27T05:50:30.821156Z"
    },
    "papermill": {
     "duration": 0.849585,
     "end_time": "2021-10-27T06:19:31.302229",
     "exception": false,
     "start_time": "2021-10-27T06:19:30.452644",
     "status": "completed"
    },
    "tags": []
   },
   "outputs": [],
   "source": [
    "def generate_POS_tags(orig_sentence):\n",
    "    orig_sentence = [orig_sentence.split(\" \")]\n",
    "    sentence = word_tokenizer.texts_to_sequences(orig_sentence)\n",
    "    sentence = pad_sequences(sentence, maxlen=max_length, truncating=trunc_type, padding=pad_type)\n",
    "    \n",
    "    predict_x=model.predict(sentence[0]) \n",
    "    pos = []\n",
    "    for i in range(len(orig_sentence[0])):\n",
    "        index = np.argmax(predict_x[i], axis=1)\n",
    "        pos.append(TAGS[index[0]].upper())\n",
    "        \n",
    "    return list(zip(orig_sentence[0],pos))"
   ]
  },
  {
   "cell_type": "code",
   "execution_count": 22,
   "id": "3a8ea257",
   "metadata": {
    "execution": {
     "iopub.execute_input": "2021-10-27T06:19:33.156800Z",
     "iopub.status.busy": "2021-10-27T06:19:33.156164Z",
     "iopub.status.idle": "2021-10-27T06:19:33.604407Z",
     "shell.execute_reply": "2021-10-27T06:19:33.605149Z",
     "shell.execute_reply.started": "2021-10-27T06:14:25.982005Z"
    },
    "papermill": {
     "duration": 1.376413,
     "end_time": "2021-10-27T06:19:33.605302",
     "exception": false,
     "start_time": "2021-10-27T06:19:32.228889",
     "status": "completed"
    },
    "tags": []
   },
   "outputs": [
    {
     "name": "stdout",
     "output_type": "stream",
     "text": [
      "It urged that the city `` take steps to remedy '' this problem .\n",
      "[('It', 'PRON'),\n",
      " ('urged', 'VERB'),\n",
      " ('that', 'DET'),\n",
      " ('the', 'DET'),\n",
      " ('city', 'NOUN'),\n",
      " ('``', '.'),\n",
      " ('take', 'VERB'),\n",
      " ('steps', 'NOUN'),\n",
      " ('to', 'ADP'),\n",
      " ('remedy', 'NOUN'),\n",
      " (\"''\", '.'),\n",
      " ('this', 'DET'),\n",
      " ('problem', 'NOUN'),\n",
      " ('.', '.')]\n",
      "[('It', 'PRON'),\n",
      " ('urged', 'VERB'),\n",
      " ('that', 'ADP'),\n",
      " ('the', 'DET'),\n",
      " ('city', 'NOUN'),\n",
      " ('``', '.'),\n",
      " ('take', 'VERB'),\n",
      " ('steps', 'NOUN'),\n",
      " ('to', 'PRT'),\n",
      " ('remedy', 'VERB'),\n",
      " (\"''\", '.'),\n",
      " ('this', 'DET'),\n",
      " ('problem', 'NOUN'),\n",
      " ('.', '.')]\n"
     ]
    }
   ],
   "source": [
    "sent = \" \".join(X[10])\n",
    "print(sent)\n",
    "res = generate_POS_tags(sent)\n",
    "pprint.pprint(res)\n",
    "pprint.pprint(tagged_sentences[10])"
   ]
  },
  {
   "cell_type": "code",
   "execution_count": 23,
   "id": "1ecc6d86",
   "metadata": {
    "execution": {
     "iopub.execute_input": "2021-10-27T06:19:35.567031Z",
     "iopub.status.busy": "2021-10-27T06:19:35.566443Z",
     "iopub.status.idle": "2021-10-27T06:19:35.740142Z",
     "shell.execute_reply": "2021-10-27T06:19:35.739519Z",
     "shell.execute_reply.started": "2021-10-27T05:23:52.577357Z"
    },
    "papermill": {
     "duration": 1.275117,
     "end_time": "2021-10-27T06:19:35.740318",
     "exception": false,
     "start_time": "2021-10-27T06:19:34.465201",
     "status": "completed"
    },
    "tags": []
   },
   "outputs": [
    {
     "name": "stdout",
     "output_type": "stream",
     "text": [
      "[('I', 'PRON'),\n",
      " ('am', 'VERB'),\n",
      " ('driving', 'VERB'),\n",
      " ('the', 'DET'),\n",
      " ('car', 'NOUN'),\n",
      " ('to', 'ADP'),\n",
      " ('the', 'DET'),\n",
      " ('store', 'NOUN'),\n",
      " ('today', 'NOUN')]\n"
     ]
    },
    {
     "data": {
      "text/plain": [
       "[('I', 'PRON'),\n",
       " ('am', 'VERB'),\n",
       " ('driving', 'VERB'),\n",
       " ('the', 'DET'),\n",
       " ('car', 'NOUN'),\n",
       " ('to', 'PRT'),\n",
       " ('the', 'DET'),\n",
       " ('store', 'NOUN'),\n",
       " ('today', 'NOUN')]"
      ]
     },
     "execution_count": 23,
     "metadata": {},
     "output_type": "execute_result"
    }
   ],
   "source": [
    "from nltk.tag import pos_tag\n",
    "from nltk.tokenize import word_tokenize\n",
    "\n",
    "inp = \"I am driving the car to the store today\"\n",
    "res = generate_POS_tags(inp)\n",
    "pprint.pprint(res)\n",
    "pos_tag(word_tokenize(inp), tagset='universal')"
   ]
  },
  {
   "cell_type": "code",
   "execution_count": 24,
   "id": "de90682a",
   "metadata": {
    "execution": {
     "iopub.execute_input": "2021-10-27T06:19:37.433546Z",
     "iopub.status.busy": "2021-10-27T06:19:37.432727Z",
     "iopub.status.idle": "2021-10-27T06:19:37.490461Z",
     "shell.execute_reply": "2021-10-27T06:19:37.489972Z",
     "shell.execute_reply.started": "2021-10-27T06:02:02.486273Z"
    },
    "papermill": {
     "duration": 0.903584,
     "end_time": "2021-10-27T06:19:37.490613",
     "exception": false,
     "start_time": "2021-10-27T06:19:36.587029",
     "status": "completed"
    },
    "tags": []
   },
   "outputs": [
    {
     "name": "stdout",
     "output_type": "stream",
     "text": [
      "[('Now', 'ADV'),\n",
      " (\"you're\", 'PRT'),\n",
      " ('just', 'ADV'),\n",
      " ('somebody', 'NOUN'),\n",
      " ('that', 'DET'),\n",
      " ('I', 'PRON'),\n",
      " ('used', 'VERB'),\n",
      " ('to', 'ADP'),\n",
      " ('know', 'VERB')]\n"
     ]
    },
    {
     "data": {
      "text/plain": [
       "[('Now', 'ADV'),\n",
       " ('you', 'PRON'),\n",
       " (\"'re\", 'VERB'),\n",
       " ('just', 'ADV'),\n",
       " ('somebody', 'NOUN'),\n",
       " ('that', 'ADP'),\n",
       " ('I', 'PRON'),\n",
       " ('used', 'VERB'),\n",
       " ('to', 'PRT'),\n",
       " ('know', 'VERB')]"
      ]
     },
     "execution_count": 24,
     "metadata": {},
     "output_type": "execute_result"
    }
   ],
   "source": [
    "inp = \"Now you're just somebody that I used to know\"\n",
    "res = generate_POS_tags(inp)\n",
    "pprint.pprint(res)\n",
    "pos_tag(word_tokenize(inp), tagset='universal')"
   ]
  },
  {
   "cell_type": "code",
   "execution_count": 25,
   "id": "088a8715",
   "metadata": {
    "execution": {
     "iopub.execute_input": "2021-10-27T06:19:39.252390Z",
     "iopub.status.busy": "2021-10-27T06:19:39.251526Z",
     "iopub.status.idle": "2021-10-27T06:19:39.313606Z",
     "shell.execute_reply": "2021-10-27T06:19:39.314516Z",
     "shell.execute_reply.started": "2021-10-27T06:02:58.121596Z"
    },
    "papermill": {
     "duration": 0.979442,
     "end_time": "2021-10-27T06:19:39.314701",
     "exception": false,
     "start_time": "2021-10-27T06:19:38.335259",
     "status": "completed"
    },
    "tags": []
   },
   "outputs": [
    {
     "name": "stdout",
     "output_type": "stream",
     "text": [
      "[('The', 'DET'),\n",
      " ('market', 'NOUN'),\n",
      " ('is', 'VERB'),\n",
      " ('projected', 'VERB'),\n",
      " ('to', 'ADP'),\n",
      " ('crash', 'NOUN'),\n",
      " ('within', 'ADP'),\n",
      " ('the', 'DET'),\n",
      " ('next', 'ADJ'),\n",
      " ('month', 'NOUN')]\n"
     ]
    },
    {
     "data": {
      "text/plain": [
       "[('The', 'DET'),\n",
       " ('market', 'NOUN'),\n",
       " ('is', 'VERB'),\n",
       " ('projected', 'VERB'),\n",
       " ('to', 'PRT'),\n",
       " ('crash', 'VERB'),\n",
       " ('within', 'ADP'),\n",
       " ('the', 'DET'),\n",
       " ('next', 'ADJ'),\n",
       " ('month', 'NOUN')]"
      ]
     },
     "execution_count": 25,
     "metadata": {},
     "output_type": "execute_result"
    }
   ],
   "source": [
    "inp = \"The market is projected to crash within the next month\"\n",
    "res = generate_POS_tags(inp)\n",
    "pprint.pprint(res)\n",
    "pos_tag(word_tokenize(inp), tagset='universal')"
   ]
  },
  {
   "cell_type": "code",
   "execution_count": null,
   "id": "7cafc603",
   "metadata": {
    "papermill": {
     "duration": 1.064894,
     "end_time": "2021-10-27T06:19:41.225816",
     "exception": false,
     "start_time": "2021-10-27T06:19:40.160922",
     "status": "completed"
    },
    "tags": []
   },
   "outputs": [],
   "source": []
  }
 ],
 "metadata": {
  "kernelspec": {
   "display_name": "Python 3",
   "language": "python",
   "name": "python3"
  },
  "language_info": {
   "codemirror_mode": {
    "name": "ipython",
    "version": 3
   },
   "file_extension": ".py",
   "mimetype": "text/x-python",
   "name": "python",
   "nbconvert_exporter": "python",
   "pygments_lexer": "ipython3",
   "version": "3.8.8"
  },
  "papermill": {
   "default_parameters": {},
   "duration": 251.762929,
   "end_time": "2021-10-27T06:19:45.647663",
   "environment_variables": {},
   "exception": null,
   "input_path": "__notebook__.ipynb",
   "output_path": "__notebook__.ipynb",
   "parameters": {},
   "start_time": "2021-10-27T06:15:33.884734",
   "version": "2.3.3"
  }
 },
 "nbformat": 4,
 "nbformat_minor": 5
}
